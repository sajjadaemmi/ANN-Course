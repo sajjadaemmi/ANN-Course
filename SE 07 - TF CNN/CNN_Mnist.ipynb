{
  "nbformat": 4,
  "nbformat_minor": 0,
  "metadata": {
    "colab": {
      "name": "CNN Mnist.ipynb",
      "provenance": []
    },
    "kernelspec": {
      "name": "python3",
      "display_name": "Python 3"
    },
    "accelerator": "GPU"
  },
  "cells": [
    {
      "cell_type": "code",
      "metadata": {
        "id": "YNrVlbvmtheU",
        "colab_type": "code",
        "colab": {}
      },
      "source": [
        "import pandas as pd\n",
        "import numpy as np\n",
        "import tensorflow as tf\n",
        "from tensorflow.keras import layers\n",
        "from matplotlib import pyplot as plt"
      ],
      "execution_count": 0,
      "outputs": []
    },
    {
      "cell_type": "code",
      "metadata": {
        "id": "nGnqpkksudBc",
        "colab_type": "code",
        "outputId": "86386c59-c674-4e57-f904-edf6d769591e",
        "colab": {
          "base_uri": "https://localhost:8080/",
          "height": 51
        }
      },
      "source": [
        "mnist = tf.keras.datasets.mnist\n",
        "(x_train, y_train) , (x_test, y_test) = mnist.load_data()\n",
        "x_train, x_test = x_train / 255.0, x_test / 255.0"
      ],
      "execution_count": 3,
      "outputs": [
        {
          "output_type": "stream",
          "text": [
            "Downloading data from https://storage.googleapis.com/tensorflow/tf-keras-datasets/mnist.npz\n",
            "11493376/11490434 [==============================] - 0s 0us/step\n"
          ],
          "name": "stdout"
        }
      ]
    },
    {
      "cell_type": "code",
      "metadata": {
        "id": "aMuhn6VjSyD6",
        "colab_type": "code",
        "colab": {}
      },
      "source": [
        "x_train = x_train.reshape(x_train.shape[0], x_train.shape[1], x_train.shape[2], 1)\n",
        "x_test = x_test.reshape(x_test.shape[0], x_test.shape[1], x_test.shape[2], 1)"
      ],
      "execution_count": 0,
      "outputs": []
    },
    {
      "cell_type": "code",
      "metadata": {
        "id": "0YfKgqm4uk21",
        "colab_type": "code",
        "colab": {}
      },
      "source": [
        "model = tf.keras.models.Sequential([\n",
        "    layers.Conv2D(32, (3, 3), activation='relu', input_shape=(28, 28, 1)),\n",
        "    layers.MaxPooling2D((2, 2)),\n",
        "    layers.Conv2D(64, (3, 3), activation='relu'),\n",
        "    layers.MaxPooling2D((2, 2)),\n",
        "    layers.Conv2D(64, (3, 3), activation='relu'),\n",
        "\n",
        "    layers.Flatten(),\n",
        "    layers.Dense(64, activation='relu'),\n",
        "    layers.Dense(10, activation='softmax'),\n",
        "])"
      ],
      "execution_count": 0,
      "outputs": []
    },
    {
      "cell_type": "code",
      "metadata": {
        "id": "V9-c66tO2yDp",
        "colab_type": "code",
        "colab": {}
      },
      "source": [
        "model.summary()"
      ],
      "execution_count": 0,
      "outputs": []
    },
    {
      "cell_type": "code",
      "metadata": {
        "id": "zCruprpKv-3r",
        "colab_type": "code",
        "colab": {
          "base_uri": "https://localhost:8080/",
          "height": 187
        },
        "outputId": "48157e73-7471-4884-8463-96e4be068655"
      },
      "source": [
        "# if network not trained before...\n",
        "model.compile(optimizer = tf.keras.optimizers.SGD(lr=0.0001, momentum=0.9, decay=0.0, nesterov=False), \n",
        "              loss = tf.keras.losses.sparse_categorical_crossentropy, \n",
        "              metrics=['accuracy'])\n",
        "\n",
        "output = model.fit(x_train, y_train, \n",
        "                   epochs = 5,\n",
        "                   validation_data = (x_test, y_test))"
      ],
      "execution_count": 7,
      "outputs": [
        {
          "output_type": "stream",
          "text": [
            "Epoch 1/5\n",
            "1875/1875 [==============================] - 6s 3ms/step - loss: 2.2883 - accuracy: 0.1702 - val_loss: 2.2617 - val_accuracy: 0.3074\n",
            "Epoch 2/5\n",
            "1875/1875 [==============================] - 6s 3ms/step - loss: 2.1591 - accuracy: 0.4411 - val_loss: 1.8792 - val_accuracy: 0.6386\n",
            "Epoch 3/5\n",
            "1875/1875 [==============================] - 6s 3ms/step - loss: 1.0542 - accuracy: 0.7480 - val_loss: 0.5160 - val_accuracy: 0.8548\n",
            "Epoch 4/5\n",
            "1875/1875 [==============================] - 6s 3ms/step - loss: 0.4337 - accuracy: 0.8733 - val_loss: 0.3408 - val_accuracy: 0.8978\n",
            "Epoch 5/5\n",
            "1875/1875 [==============================] - 6s 3ms/step - loss: 0.3400 - accuracy: 0.8984 - val_loss: 0.2935 - val_accuracy: 0.9111\n"
          ],
          "name": "stdout"
        }
      ]
    },
    {
      "cell_type": "code",
      "metadata": {
        "id": "UxU4qzRTUYj_",
        "colab_type": "code",
        "colab": {
          "base_uri": "https://localhost:8080/",
          "height": 265
        },
        "outputId": "de091a84-76f2-45bc-feae-6900227646e0"
      },
      "source": [
        "train_loss = output.history['loss']\n",
        "train_acc = output.history['accuracy']\n",
        "\n",
        "plt.plot(train_loss)\n",
        "plt.plot(train_acc)\n",
        "plt.show()"
      ],
      "execution_count": 10,
      "outputs": [
        {
          "output_type": "display_data",
          "data": {
            "image/png": "[encoded data removed]",
            "text/plain": [
              "<Figure size 432x288 with 1 Axes>"
            ]
          },
          "metadata": {
            "tags": [],
            "needs_background": "light"
          }
        }
      ]
    },
    {
      "cell_type": "code",
      "metadata": {
        "id": "FZcJe5Rb59kV",
        "colab_type": "code",
        "colab": {
          "base_uri": "https://localhost:8080/",
          "height": 51
        },
        "outputId": "c9599bc0-3cd0-4eb8-9215-65d7eff8a480"
      },
      "source": [
        "model.evaluate(x_test, y_test)"
      ],
      "execution_count": 13,
      "outputs": [
        {
          "output_type": "stream",
          "text": [
            "313/313 [==============================] - 1s 2ms/step - loss: 0.2935 - accuracy: 0.9111\n"
          ],
          "name": "stdout"
        },
        {
          "output_type": "execute_result",
          "data": {
            "text/plain": [
              "[0.2935200333595276, 0.9110999703407288]"
            ]
          },
          "metadata": {
            "tags": []
          },
          "execution_count": 13
        }
      ]
    },
    {
      "cell_type": "code",
      "metadata": {
        "id": "5GyKU-GgUcrt",
        "colab_type": "code",
        "outputId": "87bf9dcc-1907-4a03-e4ec-9be29973ed55",
        "colab": {
          "base_uri": "https://localhost:8080/",
          "height": 85
        }
      },
      "source": [
        "import cv2 as cv\n",
        "img = cv.imread('4.jpg')\n",
        "img = cv.resize(img, (28, 28))\n",
        "img = cv.cvtColor(img, cv.COLOR_BGR2GRAY)\n",
        "\n",
        "img = img / 255.0\n",
        "img = 1 - img\n",
        "\n",
        "img = img.reshape(1, 28, 28, 1)\n",
        "\n",
        "y_pred = model.predict(img)\n",
        "print(y_pred)\n",
        "print(np.argmax(y_pred))"
      ],
      "execution_count": 0,
      "outputs": [
        {
          "output_type": "stream",
          "text": [
            "[[2.55939590e-08 4.21577261e-06 4.60464406e-07 8.92376946e-08\n",
            "  9.97719347e-01 1.61216008e-06 3.13902410e-06 1.04699975e-04\n",
            "  2.16564187e-03 6.78430524e-07]]\n",
            "4\n"
          ],
          "name": "stdout"
        }
      ]
    }
  ]
}