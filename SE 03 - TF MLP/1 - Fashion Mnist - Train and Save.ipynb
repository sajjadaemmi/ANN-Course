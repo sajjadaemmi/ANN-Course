{
  "nbformat": 4,
  "nbformat_minor": 0,
  "metadata": {
    "colab": {
      "name": "1- Fashion Mnist.ipynb",
      "provenance": [],
      "collapsed_sections": []
    },
    "kernelspec": {
      "name": "python3",
      "display_name": "Python 3"
    },
    "accelerator": "GPU"
  },
  "cells": [
    {
      "cell_type": "code",
      "metadata": {
        "id": "QFYTfjvTLhh-",
        "colab_type": "code",
        "colab": {}
      },
      "source": [
        "# Load data\n",
        "\n",
        "import tensorflow as tf\n",
        "\n",
        "data = tf.keras.datasets.fashion_mnist\n",
        "(x_train, y_train),(x_test, y_test) = data.load_data()\n",
        "\n",
        "x_train = x_train / 255.0 \n",
        "x_test = x_test / 255.0"
      ],
      "execution_count": 0,
      "outputs": []
    },
    {
      "cell_type": "code",
      "metadata": {
        "id": "hBdanoz2M_29",
        "colab_type": "code",
        "colab": {}
      },
      "source": [
        "# Define model\n",
        "\n",
        "model = tf.keras.models.Sequential([\n",
        "  tf.keras.layers.Flatten(input_shape=(28, 28)), # size : 1 * 784\n",
        "  tf.keras.layers.Dense(128, activation='sigmoid'),\n",
        "  tf.keras.layers.Dense(65, activation='relu'),\n",
        "  tf.keras.layers.Dense(10, activation='softmax')\n",
        "])"
      ],
      "execution_count": 0,
      "outputs": []
    },
    {
      "cell_type": "code",
      "metadata": {
        "id": "BBBSnBjINL0c",
        "colab_type": "code",
        "colab": {}
      },
      "source": [
        "# Setup Model\n",
        "\n",
        "model.compile(optimizer = tf.keras.optimizers.Adam(learning_rate = 0.01, beta_1=0.9, beta_2=0.999),\n",
        "              loss='sparse_categorical_crossentropy',\n",
        "              metrics=['accuracy'])"
      ],
      "execution_count": 0,
      "outputs": []
    },
    {
      "cell_type": "code",
      "metadata": {
        "id": "3jiWXReNLktB",
        "colab_type": "code",
        "colab": {}
      },
      "source": [
        "# Train Model\n",
        "\n",
        "model.fit(x_train, y_train, epochs=5)"
      ],
      "execution_count": 0,
      "outputs": []
    },
    {
      "cell_type": "code",
      "metadata": {
        "id": "FKJbtZVWL_T1",
        "colab_type": "code",
        "colab": {}
      },
      "source": [
        "# Test Model and Save\n",
        "\n",
        "model.evaluate(x_test, y_test)\n",
        "model.save('sajjad.h5')"
      ],
      "execution_count": 0,
      "outputs": []
    }
  ]
}