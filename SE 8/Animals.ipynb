{
  "nbformat": 4,
  "nbformat_minor": 0,
  "metadata": {
    "colab": {
      "name": "Animals.ipynb",
      "provenance": []
    },
    "kernelspec": {
      "name": "python3",
      "display_name": "Python 3"
    },
    "accelerator": "GPU"
  },
  "cells": [
    {
      "cell_type": "code",
      "metadata": {
        "id": "sE1zvVK6zd6O",
        "colab_type": "code",
        "colab": {
          "base_uri": "https://localhost:8080/",
          "height": 122
        },
        "outputId": "82eb4bf1-50f9-4944-ccdf-68ec56262bd6"
      },
      "source": [
        "from google.colab import drive\n",
        "drive.mount('/content/drive')"
      ],
      "execution_count": 1,
      "outputs": [
        {
          "output_type": "stream",
          "text": [
            "Go to this URL in a browser: https://accounts.google.com/o/oauth2/auth?client_id=947318989803-6bn6qk8qdgf4n4g3pfee6491hc0brc4i.apps.googleusercontent.com&redirect_uri=urn%3aietf%3awg%3aoauth%3a2.0%3aoob&response_type=code&scope=email%20https%3a%2f%2fwww.googleapis.com%2fauth%2fdocs.test%20https%3a%2f%2fwww.googleapis.com%2fauth%2fdrive%20https%3a%2f%2fwww.googleapis.com%2fauth%2fdrive.photos.readonly%20https%3a%2f%2fwww.googleapis.com%2fauth%2fpeopleapi.readonly\n",
            "\n",
            "Enter your authorization code:\n",
            "··········\n",
            "Mounted at /content/drive\n"
          ],
          "name": "stdout"
        }
      ]
    },
    {
      "cell_type": "code",
      "metadata": {
        "id": "MMsAxgirzmtD",
        "colab_type": "code",
        "colab": {}
      },
      "source": [
        "import numpy as np\n",
        "from matplotlib import pyplot as plt\n",
        "import tensorflow as tf\n",
        "from tensorflow.keras.layers import Dense, Conv2D, MaxPool2D, Flatten\n",
        "from tensorflow.keras.optimizers import SGD, Adam\n",
        "from tensorflow.keras.preprocessing.image import ImageDataGenerator"
      ],
      "execution_count": 0,
      "outputs": []
    },
    {
      "cell_type": "code",
      "metadata": {
        "id": "RweW9uwn0DvF",
        "colab_type": "code",
        "colab": {}
      },
      "source": [
        "dir = \"/content/drive/My Drive/Colab Notebooks/animal\"\n",
        "\n",
        "width = 299\n",
        "height = 299"
      ],
      "execution_count": 0,
      "outputs": []
    },
    {
      "cell_type": "code",
      "metadata": {
        "id": "Y4z7ImJM0rDp",
        "colab_type": "code",
        "colab": {
          "base_uri": "https://localhost:8080/",
          "height": 51
        },
        "outputId": "9ebf0584-5cba-400d-eba1-a9638d71731f"
      },
      "source": [
        "data_generator = ImageDataGenerator(\n",
        "    rotation_range = 10,\n",
        "    horizontal_flip = True,\n",
        "    # vertical_flip = True,\n",
        "    zoom_range = 0.2,\n",
        "    # width_shift_range = 0.2,\n",
        "    height_shift_range = 0.1,\n",
        "    rescale = 1 / 255,\n",
        "    validation_split = 0.2,\n",
        ")\n",
        "\n",
        "train_data = data_generator.flow_from_directory(\n",
        "    dir,\n",
        "    target_size = (width, height),\n",
        "    batch_size = 8,\n",
        "    # save_to_dir = '/content/drive/My Drive/Colab Notebooks/augment_animals',\n",
        "    class_mode = 'categorical',\n",
        "    subset = 'training'\n",
        ")\n",
        "\n",
        "validation_data = data_generator.flow_from_directory(\n",
        "    dir,\n",
        "    target_size = (width, height),\n",
        "    batch_size = 4,\n",
        "    class_mode = 'categorical',\n",
        "    subset = 'validation'\n",
        ")"
      ],
      "execution_count": 10,
      "outputs": [
        {
          "output_type": "stream",
          "text": [
            "Found 148 images belonging to 3 classes.\n",
            "Found 35 images belonging to 3 classes.\n"
          ],
          "name": "stdout"
        }
      ]
    },
    {
      "cell_type": "code",
      "metadata": {
        "id": "tsub4v-o5dQn",
        "colab_type": "code",
        "colab": {}
      },
      "source": [
        "model = tf.keras.models.Sequential([\n",
        "    Conv2D(32, (3, 3), activation='relu', input_shape=(width, height, 3)),\n",
        "    MaxPool2D((2, 2)),\n",
        "    Conv2D(64, (3, 3), activation='relu'),\n",
        "    MaxPool2D((2, 2)),\n",
        "    Conv2D(64, (3, 3), activation='relu'),\n",
        "    MaxPool2D((2, 2)),\n",
        "    Conv2D(64, (3, 3), activation='relu'),\n",
        "    Conv2D(64, (3, 3), activation='relu'),\n",
        "\n",
        "    Flatten(),\n",
        "    Dense(64, activation='relu'),\n",
        "    Dense(3, activation='softmax'),\n",
        "])"
      ],
      "execution_count": 0,
      "outputs": []
    },
    {
      "cell_type": "code",
      "metadata": {
        "id": "WKSMVBiM6CD5",
        "colab_type": "code",
        "colab": {}
      },
      "source": [
        "model.compile(optimizer=Adam(), \n",
        "              loss = tf.keras.losses.categorical_crossentropy,\n",
        "              metrics=['accuracy'])"
      ],
      "execution_count": 0,
      "outputs": []
    },
    {
      "cell_type": "code",
      "metadata": {
        "id": "OlYIXwwt6LqW",
        "colab_type": "code",
        "colab": {
          "base_uri": "https://localhost:8080/",
          "height": 187
        },
        "outputId": "a8497a4c-824e-455f-ffbe-7ddc8beec155"
      },
      "source": [
        "batch_size = 8\n",
        "\n",
        "output = model.fit(\n",
        "    train_data,\n",
        "    steps_per_epoch = train_data.samples // batch_size,\n",
        "    epochs = 5,\n",
        "    validation_data = val_data, \n",
        "    validation_steps = validation_data.samples // batch_size,    \n",
        "    class_weight = {0:1 , 1:1 , 2:2},\n",
        "    shuffle = True\n",
        ")"
      ],
      "execution_count": 16,
      "outputs": [
        {
          "output_type": "stream",
          "text": [
            "Epoch 1/5\n",
            "18/18 [==============================] - 6s 314ms/step - loss: 1.5589 - accuracy: 0.3643 - val_loss: 1.0322 - val_accuracy: 0.3125\n",
            "Epoch 2/5\n",
            "18/18 [==============================] - 5s 303ms/step - loss: 1.3126 - accuracy: 0.4286 - val_loss: 1.0362 - val_accuracy: 0.4000\n",
            "Epoch 3/5\n",
            "18/18 [==============================] - 5s 302ms/step - loss: 1.2716 - accuracy: 0.4722 - val_loss: 1.1214 - val_accuracy: 0.3750\n",
            "Epoch 4/5\n",
            "18/18 [==============================] - 5s 301ms/step - loss: 0.9812 - accuracy: 0.5286 - val_loss: 0.9414 - val_accuracy: 0.5333\n",
            "Epoch 5/5\n",
            "18/18 [==============================] - 5s 291ms/step - loss: 0.9851 - accuracy: 0.5714 - val_loss: 1.0573 - val_accuracy: 0.5625\n"
          ],
          "name": "stdout"
        }
      ]
    },
    {
      "cell_type": "code",
      "metadata": {
        "id": "w89vWTz78y9M",
        "colab_type": "code",
        "colab": {
          "base_uri": "https://localhost:8080/",
          "height": 265
        },
        "outputId": "d99524d4-435b-421a-a2f2-a07fee94144e"
      },
      "source": [
        "plt.plot(output.history['accuracy'])\n",
        "plt.show()"
      ],
      "execution_count": 18,
      "outputs": [
        {
          "output_type": "display_data",
          "data": {
            "image/png": "[encoded data removed]",
            "text/plain": [
              "<Figure size 432x288 with 1 Axes>"
            ]
          },
          "metadata": {
            "tags": [],
            "needs_background": "light"
          }
        }
      ]
    }
  ]
}