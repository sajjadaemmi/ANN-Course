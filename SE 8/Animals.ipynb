{
  "nbformat": 4,
  "nbformat_minor": 0,
  "metadata": {
    "colab": {
      "name": "Animals.ipynb",
      "provenance": [],
      "collapsed_sections": []
    },
    "kernelspec": {
      "name": "python3",
      "display_name": "Python 3"
    },
    "accelerator": "GPU"
  },
  "cells": [
    {
      "cell_type": "code",
      "metadata": {
        "id": "sE1zvVK6zd6O",
        "colab_type": "code",
        "outputId": "abbee141-d398-4fbd-e0a9-2249b71a67ad",
        "colab": {
          "base_uri": "https://localhost:8080/",
          "height": 122
        }
      },
      "source": [
        "from google.colab import drive\n",
        "drive.mount('/content/drive')"
      ],
      "execution_count": 1,
      "outputs": [
        {
          "output_type": "stream",
          "text": [
            "Go to this URL in a browser: https://accounts.google.com/o/oauth2/auth?client_id=947318989803-6bn6qk8qdgf4n4g3pfee6491hc0brc4i.apps.googleusercontent.com&redirect_uri=urn%3aietf%3awg%3aoauth%3a2.0%3aoob&response_type=code&scope=email%20https%3a%2f%2fwww.googleapis.com%2fauth%2fdocs.test%20https%3a%2f%2fwww.googleapis.com%2fauth%2fdrive%20https%3a%2f%2fwww.googleapis.com%2fauth%2fdrive.photos.readonly%20https%3a%2f%2fwww.googleapis.com%2fauth%2fpeopleapi.readonly\n",
            "\n",
            "Enter your authorization code:\n",
            "··········\n",
            "Mounted at /content/drive\n"
          ],
          "name": "stdout"
        }
      ]
    },
    {
      "cell_type": "code",
      "metadata": {
        "id": "MMsAxgirzmtD",
        "colab_type": "code",
        "colab": {}
      },
      "source": [
        "import numpy as np\n",
        "from matplotlib import pyplot as plt\n",
        "import tensorflow as tf\n",
        "from tensorflow.keras.layers import Dense, Conv2D, MaxPool2D, Flatten\n",
        "from tensorflow.keras.optimizers import SGD, Adam\n",
        "from tensorflow.keras.preprocessing.image import ImageDataGenerator"
      ],
      "execution_count": 0,
      "outputs": []
    },
    {
      "cell_type": "code",
      "metadata": {
        "id": "RweW9uwn0DvF",
        "colab_type": "code",
        "colab": {}
      },
      "source": [
        "dir = \"/content/drive/My Drive/Colab Notebooks/animal\"\n",
        "\n",
        "width = 299\n",
        "height = 299"
      ],
      "execution_count": 0,
      "outputs": []
    },
    {
      "cell_type": "code",
      "metadata": {
        "id": "Y4z7ImJM0rDp",
        "colab_type": "code",
        "outputId": "8260bdc3-1c29-4e99-f407-05adeb1a194b",
        "colab": {
          "base_uri": "https://localhost:8080/",
          "height": 51
        }
      },
      "source": [
        "data_generator = ImageDataGenerator(\n",
        "    rotation_range = 10,\n",
        "    horizontal_flip = True,\n",
        "    # vertical_flip = True,\n",
        "    zoom_range = 0.1,\n",
        "    # width_shift_range = 0.2,\n",
        "    height_shift_range = 0.1,\n",
        "    rescale = 1 / 255,\n",
        "    validation_split = 0.2,\n",
        ")\n",
        "\n",
        "train_data = data_generator.flow_from_directory(\n",
        "    dir,\n",
        "    target_size = (width, height),\n",
        "    batch_size = 8,\n",
        "    # save_to_dir = '/content/drive/My Drive/Colab Notebooks/augment_animals',\n",
        "    class_mode = 'categorical',\n",
        "    subset = 'training'\n",
        ")\n",
        "\n",
        "validation_data = data_generator.flow_from_directory(\n",
        "    dir,\n",
        "    target_size = (width, height),\n",
        "    batch_size = 4,\n",
        "    class_mode = 'categorical',\n",
        "    subset = 'validation'\n",
        ")"
      ],
      "execution_count": 4,
      "outputs": [
        {
          "output_type": "stream",
          "text": [
            "Found 148 images belonging to 3 classes.\n",
            "Found 35 images belonging to 3 classes.\n"
          ],
          "name": "stdout"
        }
      ]
    },
    {
      "cell_type": "code",
      "metadata": {
        "id": "tsub4v-o5dQn",
        "colab_type": "code",
        "colab": {}
      },
      "source": [
        "model = tf.keras.models.Sequential([\n",
        "    Conv2D(32, (3, 3), activation='relu', input_shape=(width, height, 3)),\n",
        "    Conv2D(32, (3, 3), activation='relu'),\n",
        "    MaxPool2D((2, 2)),\n",
        "    Conv2D(32, (3, 3), activation='relu'),\n",
        "    Conv2D(32, (3, 3), activation='relu'),\n",
        "    MaxPool2D((2, 2)),\n",
        "    Conv2D(64, (3, 3), activation='relu'),\n",
        "    Conv2D(64, (3, 3), activation='relu'),\n",
        "    MaxPool2D((2, 2)),\n",
        "    Conv2D(64, (3, 3), activation='relu'),\n",
        "    Conv2D(64, (3, 3), activation='relu'),\n",
        "\n",
        "    Flatten(),\n",
        "    Dense(128, activation='relu'),\n",
        "    Dense(32, activation='relu'),\n",
        "    Dense(3, activation='softmax'),\n",
        "])"
      ],
      "execution_count": 0,
      "outputs": []
    },
    {
      "cell_type": "code",
      "metadata": {
        "id": "WKSMVBiM6CD5",
        "colab_type": "code",
        "colab": {}
      },
      "source": [
        "model.compile(optimizer=SGD(), \n",
        "              loss = tf.keras.losses.categorical_crossentropy,\n",
        "              metrics=['accuracy'])"
      ],
      "execution_count": 0,
      "outputs": []
    },
    {
      "cell_type": "code",
      "metadata": {
        "id": "OlYIXwwt6LqW",
        "colab_type": "code",
        "colab": {}
      },
      "source": [
        "batch_size = 8\n",
        "\n",
        "output = model.fit(\n",
        "    train_data,\n",
        "    steps_per_epoch = train_data.samples // batch_size,\n",
        "    epochs = 40,\n",
        "    validation_data = validation_data, \n",
        "    validation_steps = validation_data.samples // batch_size,    \n",
        "    # class_weight = {0:1 , 1:1 , 2:2},\n",
        "    shuffle = True\n",
        ")"
      ],
      "execution_count": 0,
      "outputs": []
    },
    {
      "cell_type": "code",
      "metadata": {
        "id": "w89vWTz78y9M",
        "colab_type": "code",
        "outputId": "7f4c4c97-5421-4dd6-dd2d-534cec2612b1",
        "colab": {
          "base_uri": "https://localhost:8080/",
          "height": 265
        }
      },
      "source": [
        "plt.plot(output.history['accuracy'])\n",
        "plt.show()"
      ],
      "execution_count": 16,
      "outputs": [
        {
          "output_type": "display_data",
          "data": {
            "image/png": "[encoded data removed]",
            "text/plain": [
              "<Figure size 432x288 with 1 Axes>"
            ]
          },
          "metadata": {
            "tags": [],
            "needs_background": "light"
          }
        }
      ]
    },
    {
      "cell_type": "code",
      "metadata": {
        "id": "xgjZo1-DaWBN",
        "colab_type": "code",
        "colab": {
          "base_uri": "https://localhost:8080/",
          "height": 51
        },
        "outputId": "a8b87f7d-4143-499c-ebce-89dcaa4900b2"
      },
      "source": [
        "import cv2 as cv\n",
        "img = cv.imread('image.png')\n",
        "img = cv.resize(img, (299, 299))\n",
        "img = cv.cvtColor(img, cv.COLOR_BGR2RGB)\n",
        "\n",
        "img = img / 255.0\n",
        "\n",
        "img = img.reshape(1, 299, 299, 3)\n",
        "\n",
        "y_pred = model.predict(img)\n",
        "print(y_pred)\n",
        "print(np.argmax(y_pred))"
      ],
      "execution_count": 19,
      "outputs": [
        {
          "output_type": "stream",
          "text": [
            "[[0.6365759  0.31393108 0.04949308]]\n",
            "0\n"
          ],
          "name": "stdout"
        }
      ]
    },
    {
      "cell_type": "code",
      "metadata": {
        "id": "dLQ-MoTAbmgG",
        "colab_type": "code",
        "colab": {}
      },
      "source": [
        "model.save('animals.h5')"
      ],
      "execution_count": 0,
      "outputs": []
    }
  ]
}