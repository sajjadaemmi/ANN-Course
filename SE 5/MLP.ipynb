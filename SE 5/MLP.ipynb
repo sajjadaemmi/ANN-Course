{
  "nbformat": 4,
  "nbformat_minor": 0,
  "metadata": {
    "colab": {
      "name": "MLP.ipynb",
      "provenance": []
    },
    "kernelspec": {
      "name": "python3",
      "display_name": "Python 3"
    }
  },
  "cells": [
    {
      "cell_type": "code",
      "metadata": {
        "id": "xWMG253dbxG-",
        "colab_type": "code",
        "colab": {
          "base_uri": "https://localhost:8080/",
          "height": 122
        },
        "outputId": "300cec95-fb44-4eb6-e3be-c6dae3ef2764"
      },
      "source": [
        "from google.colab import drive\n",
        "drive.mount('/content/drive')"
      ],
      "execution_count": 1,
      "outputs": [
        {
          "output_type": "stream",
          "text": [
            "Go to this URL in a browser: https://accounts.google.com/o/oauth2/auth?client_id=947318989803-6bn6qk8qdgf4n4g3pfee6491hc0brc4i.apps.googleusercontent.com&redirect_uri=urn%3aietf%3awg%3aoauth%3a2.0%3aoob&response_type=code&scope=email%20https%3a%2f%2fwww.googleapis.com%2fauth%2fdocs.test%20https%3a%2f%2fwww.googleapis.com%2fauth%2fdrive%20https%3a%2f%2fwww.googleapis.com%2fauth%2fdrive.photos.readonly%20https%3a%2f%2fwww.googleapis.com%2fauth%2fpeopleapi.readonly\n",
            "\n",
            "Enter your authorization code:\n",
            "··········\n",
            "Mounted at /content/drive\n"
          ],
          "name": "stdout"
        }
      ]
    },
    {
      "cell_type": "code",
      "metadata": {
        "id": "ywsDyPfxb_qr",
        "colab_type": "code",
        "colab": {
          "base_uri": "https://localhost:8080/",
          "height": 51
        },
        "outputId": "e67f1713-ca92-407b-a92c-c66a7afaf270"
      },
      "source": [
        "import pandas as pd\n",
        "import matplotlib.pyplot as plt\n",
        "import numpy as np\n",
        "\n",
        "dataset = np.matrix(pd.read_csv('/content/drive/My Drive/Colab Notebooks/Mnist/mnist_train.csv', skiprows=1, header=None))\n",
        "\n",
        "Y_train = dataset[:, 0]\n",
        "Y_train = np.eye(10)[Y_train] # one hot\n",
        "\n",
        "X_train = dataset[:, 1:]\n",
        "\n",
        "print(X_train.shape)\n",
        "print(Y_train.shape)"
      ],
      "execution_count": 7,
      "outputs": [
        {
          "output_type": "stream",
          "text": [
            "(60000, 784)\n",
            "(60000, 1, 10)\n"
          ],
          "name": "stdout"
        }
      ]
    },
    {
      "cell_type": "code",
      "metadata": {
        "id": "pOasFx4sea0I",
        "colab_type": "code",
        "colab": {}
      },
      "source": [
        "lr = 0.01\n",
        "epochs = 10\n",
        "N = 60\n",
        "\n",
        "D_in = 784\n",
        "D_H1 = 65\n",
        "D_H2 = 15\n",
        "D_out = 10"
      ],
      "execution_count": 0,
      "outputs": []
    },
    {
      "cell_type": "code",
      "metadata": {
        "id": "-mgVVDN1fLbO",
        "colab_type": "code",
        "colab": {}
      },
      "source": [
        "W1 = np.random.randn(D_H1, D_in) # 65 * 784\n",
        "W2 = np.random.randn(D_H2, D_H1) # 15 * 65\n",
        "W3 = np.random.randn(D_out, D_H2) # 10 * 15\n",
        "\n",
        "B1 = np.random.randn(D_H1 , 1) # 65 * 1\n",
        "B2 = np.random.randn(D_H2 , 1) # 15 * 1\n",
        "B3 = np.random.randn(D_out , 1) # 10 * 1"
      ],
      "execution_count": 0,
      "outputs": []
    },
    {
      "cell_type": "code",
      "metadata": {
        "id": "P1L9nt8QgzrK",
        "colab_type": "code",
        "colab": {}
      },
      "source": [
        "def sigmoid(x):\n",
        "    return 1 / (1 + np.exp(-x))\n",
        "\n",
        "def softmax(x):\n",
        "    return np.exp(x) / np.sum(np.exp(x))"
      ],
      "execution_count": 0,
      "outputs": []
    },
    {
      "cell_type": "code",
      "metadata": {
        "id": "81uwtXn1g6ia",
        "colab_type": "code",
        "colab": {
          "base_uri": "https://localhost:8080/",
          "height": 51
        },
        "outputId": "f40669b5-a707-4d6e-a383-caa552bc85a7"
      },
      "source": [
        "errors = []\n",
        "\n",
        "for epoch in range(epochs):\n",
        "\n",
        "    epoch_errors = []\n",
        "\n",
        "    for n in range(N):\n",
        "\n",
        "        x = X_train[n].T\n",
        "        y = Y_train[n].T\n",
        "\n",
        "        # forward\n",
        "\n",
        "        net1 = np.matmul(W1, x) + B1\n",
        "        out1 = sigmoid(net1)\n",
        "\n",
        "        net2 = np.matmul(W2, out1) + B2\n",
        "        out2 = sigmoid(net2)\n",
        "\n",
        "        net3 = np.matmul(W3, out2) + B3\n",
        "        out3 = net3\n",
        "        y_hat = out3\n",
        "\n",
        "        # print(y_hat)\n",
        "\n",
        "        # bp\n",
        "\n",
        "        error = np.sum(np.power((y - y_hat), 2))\n",
        "        epoch_errors.append(error)\n",
        "\n",
        "        grad_out3 = 2 * (y - y_hat)\n",
        "        grad_net3 = grad_out3\n",
        "        grad_W3 = np.matmul(grad_net3, out2.T)\n",
        "        grad_B3 = grad_net3\n",
        "\n",
        "        grad_out2 = np.matmul(W3.T, grad_net3)\n",
        "        grad_net2 = np.multiply(grad_out2, np.multiply(out2 , (1 - out2)))\n",
        "        grad_W2 = np.matmul(grad_net2, out1.T)\n",
        "        grad_B2 = grad_net2\n",
        "\n",
        "        grad_out1 = np.matmul(W2.T, grad_net2)\n",
        "        grad_net1 = np.multiply(grad_out1, np.multiply(out1, (1 - out1)))\n",
        "        grad_W1 = np.matmul(grad_net1, x.T)\n",
        "        grad_B1 = grad_net1\n",
        "\n",
        "        # update\n",
        "\n",
        "        W1 = W1 + lr * grad_W1\n",
        "        W2 = W2 + lr * grad_W2\n",
        "        W3 = W3 + lr * grad_W3\n",
        "\n",
        "        B1 = B1 + lr * grad_B1\n",
        "        B2 = B2 + lr * grad_B2\n",
        "        B3 = B3 + lr * grad_B3\n",
        "\n",
        "    errors.append(sum(epoch_errors) / N)"
      ],
      "execution_count": 28,
      "outputs": [
        {
          "output_type": "stream",
          "text": [
            "/usr/local/lib/python3.6/dist-packages/ipykernel_launcher.py:2: RuntimeWarning: overflow encountered in exp\n",
            "  \n"
          ],
          "name": "stderr"
        }
      ]
    },
    {
      "cell_type": "code",
      "metadata": {
        "id": "qcdpLx03q7ZZ",
        "colab_type": "code",
        "colab": {
          "base_uri": "https://localhost:8080/",
          "height": 267
        },
        "outputId": "766dfb8c-c272-4304-ecd1-b5f250334733"
      },
      "source": [
        "errors = np.array(errors)\n",
        "errors = errors.reshape(epochs, 1)\n",
        "\n",
        "plt.plot(errors)\n",
        "plt.show()"
      ],
      "execution_count": 29,
      "outputs": [
        {
          "output_type": "display_data",
          "data": {
            "image/png": "[encoded data removed]",
            "text/plain": [
              "<Figure size 432x288 with 1 Axes>"
            ]
          },
          "metadata": {
            "tags": [],
            "needs_background": "light"
          }
        }
      ]
    }
  ]
}