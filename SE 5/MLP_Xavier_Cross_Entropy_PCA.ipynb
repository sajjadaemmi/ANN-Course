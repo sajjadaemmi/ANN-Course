{
  "nbformat": 4,
  "nbformat_minor": 0,
  "metadata": {
    "colab": {
      "name": "MLP - Xavier - Cross Entropy - PCA.ipynb",
      "provenance": [],
      "collapsed_sections": []
    },
    "kernelspec": {
      "name": "python3",
      "display_name": "Python 3"
    }
  },
  "cells": [
    {
      "cell_type": "code",
      "metadata": {
        "id": "xWMG253dbxG-",
        "colab_type": "code",
        "colab": {}
      },
      "source": [
        "from google.colab import drive\n",
        "drive.mount('/content/drive')"
      ],
      "execution_count": 0,
      "outputs": []
    },
    {
      "cell_type": "code",
      "metadata": {
        "id": "ywsDyPfxb_qr",
        "colab_type": "code",
        "outputId": "5f28ea9b-87d2-4e68-d6e6-49b784fafab8",
        "colab": {
          "base_uri": "https://localhost:8080/",
          "height": 51
        }
      },
      "source": [
        "import pandas as pd\n",
        "import matplotlib.pyplot as plt\n",
        "import numpy as np\n",
        "\n",
        "dataset = np.matrix(pd.read_csv('/content/drive/My Drive/Colab Notebooks/Mnist/mnist_train.csv', skiprows=1, header=None))\n",
        "\n",
        "Y_train = dataset[:, 0]\n",
        "Y_train = np.eye(10)[Y_train] # one hot\n",
        "\n",
        "X_train = dataset[:, 1:]\n",
        "\n",
        "print(X_train.shape)\n",
        "print(Y_train.shape)"
      ],
      "execution_count": 2,
      "outputs": [
        {
          "output_type": "stream",
          "text": [
            "(60000, 784)\n",
            "(60000, 1, 10)\n"
          ],
          "name": "stdout"
        }
      ]
    },
    {
      "cell_type": "code",
      "metadata": {
        "id": "Qf53VYWBcfuq",
        "colab_type": "code",
        "outputId": "92719a23-de80-4a9b-e6ff-57da1836c80b",
        "colab": {
          "base_uri": "https://localhost:8080/",
          "height": 34
        }
      },
      "source": [
        "from sklearn.preprocessing import StandardScaler\n",
        "from sklearn.decomposition import PCA\n",
        "\n",
        "scaler = StandardScaler()\n",
        "scaler.fit(X_train)\n",
        "X_train = scaler.transform(X_train)\n",
        "\n",
        "pca = PCA(.95)\n",
        "pca.fit(X_train)\n",
        "X_train = pca.transform(X_train)\n",
        "X_train = np.matrix(X_train)\n",
        "\n",
        "print(X_train.shape)"
      ],
      "execution_count": 3,
      "outputs": [
        {
          "output_type": "stream",
          "text": [
            "(60000, 331)\n"
          ],
          "name": "stdout"
        }
      ]
    },
    {
      "cell_type": "code",
      "metadata": {
        "id": "pOasFx4sea0I",
        "colab_type": "code",
        "colab": {}
      },
      "source": [
        "lr = 0.01\n",
        "epochs = 20\n",
        "N = X_train.shape[0]\n",
        "N = 600\n",
        "\n",
        "D_in = X_train.shape[1]\n",
        "D_H1 = 65\n",
        "D_H2 = 15\n",
        "D_out = 10"
      ],
      "execution_count": 0,
      "outputs": []
    },
    {
      "cell_type": "code",
      "metadata": {
        "id": "5m26XD8TYuz0",
        "colab_type": "code",
        "colab": {}
      },
      "source": [
        "# xavier initialization\n",
        "W1 = np.random.randn(D_H1, D_in) * np.sqrt(2 / (D_H1 + D_in))\n",
        "W2 = np.random.randn(D_H2, D_H1) * np.sqrt(2 / (D_H2 + D_H1))\n",
        "W3 = np.random.randn(D_out, D_H2) * np.sqrt(2 / (D_out + D_H2))\n",
        "\n",
        "B1 = np.random.randn(D_H1 , 1)\n",
        "B2 = np.random.randn(D_H2 , 1)\n",
        "B3 = np.random.randn(D_out , 1)"
      ],
      "execution_count": 0,
      "outputs": []
    },
    {
      "cell_type": "code",
      "metadata": {
        "id": "P1L9nt8QgzrK",
        "colab_type": "code",
        "colab": {}
      },
      "source": [
        "from math import log\n",
        "\n",
        "def sigmoid(x):\n",
        "    return 1 / (1 + np.exp(-x))\n",
        "\n",
        "def softmax(x):\n",
        "    return np.exp(x) / np.sum(np.exp(x))\n",
        "\n",
        "def crossEntropy(y, y_hat):\n",
        "    if y == 1:\n",
        "      return -log(y_hat)\n",
        "    else:\n",
        "      return -log(1 - y_hat)\n",
        "\n",
        "def softmaxGrad(a):\n",
        "    # Reshape the 1-d softmax to 2-d\n",
        "    s = a.reshape(-1,1)\n",
        "    return np.diagflat(s) - np.dot(s, s.T)"
      ],
      "execution_count": 0,
      "outputs": []
    },
    {
      "cell_type": "code",
      "metadata": {
        "id": "81uwtXn1g6ia",
        "colab_type": "code",
        "colab": {}
      },
      "source": [
        "errors = []\n",
        "\n",
        "for epoch in range(epochs):\n",
        "\n",
        "    epoch_errors = []\n",
        "\n",
        "    for n in range(N):\n",
        "\n",
        "        x = X_train[n,:].T\n",
        "        y = Y_train[n,:].T\n",
        "\n",
        "        # forward\n",
        "\n",
        "        net1 = np.matmul(W1, x) + B1\n",
        "        out1 = sigmoid(net1)\n",
        "\n",
        "        net2 = np.matmul(W2, out1) + B2\n",
        "        out2 = sigmoid(net2)\n",
        "\n",
        "        net3 = np.matmul(W3, out2) + B3\n",
        "        out3 = softmax(net3)\n",
        "        y_hat = out3\n",
        "\n",
        "        # bp\n",
        "\n",
        "        error = 0\n",
        "        for i in range(D_out):\n",
        "            error += crossEntropy(y[i], y_hat[i])\n",
        "        epoch_errors.append(error)\n",
        "\n",
        "        grad_out3 = y - y_hat\n",
        "        grad_net3 = np.matmul(softmaxGrad(out3), grad_out3)\n",
        "        grad_W3 = np.matmul(grad_net3, out2.T)\n",
        "        grad_B3 = grad_net3\n",
        "\n",
        "        grad_out2 = np.matmul(W3.T, grad_net3)\n",
        "        grad_net2 = np.multiply(grad_out2, np.multiply(out2 , (1 - out2)))\n",
        "        grad_W2 = np.matmul(grad_net2, out1.T)\n",
        "        grad_B2 = grad_net2\n",
        "\n",
        "        grad_out1 = np.matmul(W2.T, grad_net2)\n",
        "        grad_net1 = np.multiply(grad_out1, np.multiply(out1, (1 - out1)))\n",
        "        grad_W1 = np.matmul(grad_net1, x.T)\n",
        "        grad_B1 = grad_net1\n",
        "\n",
        "        # update\n",
        "\n",
        "        W1 = W1 + lr * grad_W1\n",
        "        W2 = W2 + lr * grad_W2\n",
        "        W3 = W3 + lr * grad_W3\n",
        "\n",
        "        B1 = B1 + lr * grad_B1\n",
        "        B2 = B2 + lr * grad_B2\n",
        "        B3 = B3 + lr * grad_B3\n",
        "\n",
        "    errors.append(sum(epoch_errors) / N)"
      ],
      "execution_count": 0,
      "outputs": []
    },
    {
      "cell_type": "code",
      "metadata": {
        "id": "qcdpLx03q7ZZ",
        "colab_type": "code",
        "outputId": "c12a9245-5b3a-4289-e03d-02250b064ddb",
        "colab": {
          "base_uri": "https://localhost:8080/",
          "height": 265
        }
      },
      "source": [
        "errors = np.array(errors)\n",
        "errors = errors.reshape(epochs, 1)\n",
        "\n",
        "plt.plot(errors)\n",
        "plt.show()"
      ],
      "execution_count": 8,
      "outputs": [
        {
          "output_type": "display_data",
          "data": {
            "image/png": "[encoded data removed]",
            "text/plain": [
              "<Figure size 432x288 with 1 Axes>"
            ]
          },
          "metadata": {
            "tags": [],
            "needs_background": "light"
          }
        }
      ]
    }
  ]
}